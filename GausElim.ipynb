{
 "cells": [
  {
   "cell_type": "code",
   "execution_count": 1,
   "metadata": {},
   "outputs": [],
   "source": [
    "import numpy as np"
   ]
  },
  {
   "cell_type": "code",
   "execution_count": 2,
   "metadata": {},
   "outputs": [],
   "source": [
    "#this notebook tries implimentation of linear algebra\n",
    "# it solves matrix by backsubsitution "
   ]
  },
  {
   "cell_type": "code",
   "execution_count": 16,
   "metadata": {},
   "outputs": [],
   "source": [
    "def gausElim(a , b):\n",
    "    n = len(b)\n",
    "    #elimination phase...\n",
    "    #here we transform the matrix to upper triangular matrix\n",
    "    for k in range(0,n-1):\n",
    "        for i in range(k+1,n):\n",
    "            if a[i,k] != 0.0:\n",
    "                lam = a [i,k]/a[k,k]\n",
    "                a[i,k+1:n] = a[i,k+1:n] - lam*a[k,k+1:n]\n",
    "                b[i] = b[i] - lam*b[k]\n",
    "    # Back substitution\n",
    "    #upper triangular matrix is solved by back subsitution\n",
    "    for k in range(n-1,-1,-1):\n",
    "        b[k] = (b[k] - np.dot(a[k,k+1:n],b[k+1:n]))/a[k,k]\n",
    "    return b"
   ]
  },
  {
   "cell_type": "code",
   "execution_count": null,
   "metadata": {},
   "outputs": [],
   "source": []
  },
  {
   "cell_type": "code",
   "execution_count": 10,
   "metadata": {},
   "outputs": [],
   "source": [
    "#what if the value of b is B or is of more than 2 size\n",
    "def vandermode(v):\n",
    "    n = len(v)\n",
    "    a = np.zeros((n,n),dtype=float)\n",
    "    for j in range(n):\n",
    "        a[:,j] = v**(n-j-1)\n",
    "    return a"
   ]
  },
  {
   "cell_type": "code",
   "execution_count": 35,
   "metadata": {},
   "outputs": [],
   "source": [
    "# test the equation\n",
    "\n",
    "v = np.array([1.0, 1.2, 1.4, 1.6, 1.8, 2.0])\n",
    "b = np.array([0.0, 1.0, 0.0, 1.0, 0.0, 1.0])\n",
    "a = vandermode(v)"
   ]
  },
  {
   "cell_type": "code",
   "execution_count": 36,
   "metadata": {},
   "outputs": [
    {
     "data": {
      "text/plain": [
       "array([[ 1.     ,  1.     ,  1.     ,  1.     ,  1.     ,  1.     ],\n",
       "       [ 2.48832,  2.0736 ,  1.728  ,  1.44   ,  1.2    ,  1.     ],\n",
       "       [ 5.37824,  3.8416 ,  2.744  ,  1.96   ,  1.4    ,  1.     ],\n",
       "       [10.48576,  6.5536 ,  4.096  ,  2.56   ,  1.6    ,  1.     ],\n",
       "       [18.89568, 10.4976 ,  5.832  ,  3.24   ,  1.8    ,  1.     ],\n",
       "       [32.     , 16.     ,  8.     ,  4.     ,  2.     ,  1.     ]])"
      ]
     },
     "execution_count": 36,
     "metadata": {},
     "output_type": "execute_result"
    }
   ],
   "source": [
    "a"
   ]
  },
  {
   "cell_type": "code",
   "execution_count": 37,
   "metadata": {},
   "outputs": [
    {
     "data": {
      "text/plain": [
       "array([0., 1., 0., 1., 0., 1.])"
      ]
     },
     "execution_count": 37,
     "metadata": {},
     "output_type": "execute_result"
    }
   ],
   "source": [
    "b"
   ]
  },
  {
   "cell_type": "code",
   "execution_count": 38,
   "metadata": {},
   "outputs": [],
   "source": [
    "xx = gausElim(a,b)"
   ]
  },
  {
   "cell_type": "code",
   "execution_count": 39,
   "metadata": {},
   "outputs": [
    {
     "data": {
      "text/plain": [
       "array([   416.66666667,  -3125.00000004,   9250.00000012, -13500.00000017,\n",
       "         9709.33333345,  -2751.00000003])"
      ]
     },
     "execution_count": 39,
     "metadata": {},
     "output_type": "execute_result"
    }
   ],
   "source": [
    "xx"
   ]
  },
  {
   "cell_type": "code",
   "execution_count": null,
   "metadata": {},
   "outputs": [],
   "source": []
  },
  {
   "cell_type": "code",
   "execution_count": 43,
   "metadata": {},
   "outputs": [
    {
     "name": "stdout",
     "output_type": "stream",
     "text": [
      "x =\n",
      "   [ -257.96034624   807.81916732  1170.71683355 -1424.87904926\n",
      " -4787.52325539  4723.96307867]\n",
      "\n",
      " det =  -10949338.41009368\n"
     ]
    }
   ],
   "source": [
    "\n",
    "aOrig = a.copy() # Save original matrix\n",
    "bOrig = b.copy() # and the constant vector\n",
    "x = gausElim(a,b)\n",
    "det = np.product(np.diagonal(a))\n",
    "print(f\"x =\\n   {x}\")\n",
    "print(f\"\\n det =  {det}\")\n"
   ]
  },
  {
   "cell_type": "code",
   "execution_count": 42,
   "metadata": {},
   "outputs": [
    {
     "name": "stdout",
     "output_type": "stream",
     "text": [
      "\n",
      " Check result: [a]  - b =\n",
      ", [-1.09139364e-11  7.41238182e-11 -8.73114914e-11 -2.25554686e-10\n",
      " -2.32830644e-10  3.20142135e-10]\n"
     ]
    }
   ],
   "source": [
    "print(f\"\\n Check result: [a]  - b =\\n, {np.dot(aOrig,x) - bOrig}\")\n",
    "# matrixmultiply"
   ]
  },
  {
   "cell_type": "code",
   "execution_count": null,
   "metadata": {},
   "outputs": [],
   "source": []
  },
  {
   "cell_type": "code",
   "execution_count": null,
   "metadata": {},
   "outputs": [],
   "source": []
  }
 ],
 "metadata": {
  "kernelspec": {
   "display_name": "Python 3",
   "language": "python",
   "name": "python3"
  },
  "language_info": {
   "codemirror_mode": {
    "name": "ipython",
    "version": 3
   },
   "file_extension": ".py",
   "mimetype": "text/x-python",
   "name": "python",
   "nbconvert_exporter": "python",
   "pygments_lexer": "ipython3",
   "version": "3.8.5"
  }
 },
 "nbformat": 4,
 "nbformat_minor": 4
}
